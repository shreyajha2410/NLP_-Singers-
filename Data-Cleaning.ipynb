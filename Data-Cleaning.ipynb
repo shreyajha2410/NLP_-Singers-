import requests
from bs4 import BeautifulSoup
import pickle

# Scrapes transcript data from scrapsfromtheloft.com
def url_to_transcript(url):
    '''Returns transcript data specifically from scrapsfromtheloft.com.'''
    page = requests.get(url).text
    soup = BeautifulSoup(page, "lxml")
    text = [p.text for p in soup.findAll("p")]
    print(url)
    return text

# URLs of transcripts in scope
urls = ['https://scrapsfromtheloft.com/music/tom-petty-running-down-a-dream/','https://scrapsfromtheloft.com/music/bob-dylan-intervista-a-playboy-1978/','https://scrapsfromtheloft.com/music/20-questions-tom-petty-playboy/','https://scrapsfromtheloft.com/music/metallica-playboy-interview-2001/']

# singer names
singers = ['petty','dylan','ulrich','hetfield']
transcripts = [url_to_transcript(u) for u in urls]
# # Pickle files for later use

# # Make a new directory to hold the text files
!mkdir transcripts

for i, c in enumerate(singers):
     with open("transcripts/" + c + ".txt", "wb") as file:
         pickle.dump(transcripts[i], file)
         
data = {}
for i, c in enumerate(singers):
    with open("transcripts/" + c + ".txt", "rb") as file:
        data[c] = pickle.load(file)
        
data.keys()
data['petty'][:2]
next(iter(data.keys()))
next(iter(data.values()))


def combine_text(list_of_text):
    '''Takes a list of text and combines them into one large chunk of text.'''
    combined_text = ' '.join(list_of_text)
    return combined_text
         
data_combined = {key: [combine_text(value)] for (key, value) in data.items()}

import pandas as pd
pd.set_option('max_colwidth',150)

data_df = pd.DataFrame.from_dict(data_combined).transpose()
data_df.columns = ['transcript']
data_df = data_df.sort_index()
data_df
data_df.transcript.loc['dylan']

import re
import string

def clean_text_round1(text):
    '''Make text lowercase, remove text in square brackets, remove punctuation and remove words containing numbers.'''
    text = text.lower()
    text = re.sub('\[.*?\]', '', text)
    text = re.sub('[%s]' % re.escape(string.punctuation), '', text)
    text = re.sub('\w*\d\w*', '', text)
    return text

round1 = lambda x: clean_text_round1(x)

data_clean = pd.DataFrame(data_df.transcript.apply(round1))
data_clean
def clean_text_round2(text):
    '''Get rid of some additional punctuation and non-sensical text that was missed the first time around.'''
    text = re.sub('[‘’“”…]', '', text)
    text = re.sub('\n', '', text)
    return text

round2 = lambda x: clean_text_round2(x)

data_clean = pd.DataFrame(data_clean.transcript.apply(round2))
data_clean

data_df

full_names = ['Tom Petty','Bob Dylan','hetfield','ulrich']

data_df['full_name'] = full_names
data_df
data_df.to_pickle("corpus.pkl")

from sklearn.feature_extraction.text import CountVectorizer

cv = CountVectorizer(stop_words='english')
data_cv = cv.fit_transform(data_clean.transcript)
data_dtm = pd.DataFrame(data_cv.toarray(), columns=cv.get_feature_names())
data_dtm.index = data_clean.index
data_dtm
data_dtm.to_pickle("dtm.pkl")
data_clean.to_pickle('data_clean.pkl')
pickle.dump(cv, open("cv.pkl", "wb"))
